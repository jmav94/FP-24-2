{
  "nbformat": 4,
  "nbformat_minor": 0,
  "metadata": {
    "colab": {
      "provenance": [],
      "authorship_tag": "ABX9TyMV21uS9XmymTidxawF7kIJ",
      "include_colab_link": true
    },
    "kernelspec": {
      "name": "python3",
      "display_name": "Python 3"
    },
    "language_info": {
      "name": "python"
    }
  },
  "cells": [
    {
      "cell_type": "markdown",
      "metadata": {
        "id": "view-in-github",
        "colab_type": "text"
      },
      "source": [
        "<a href=\"https://colab.research.google.com/github/jmav94/FP-24-2/blob/main/Ejercicio_32.ipynb\" target=\"_parent\"><img src=\"https://colab.research.google.com/assets/colab-badge.svg\" alt=\"Open In Colab\"/></a>"
      ]
    },
    {
      "cell_type": "markdown",
      "source": [
        "32. Una agencia de autos desea un sistema orientado a objetos que tenga una clase con los atributos, métodos y propiedades necesarios para *calcular el costo de un automóvil* nuevo\n",
        "para el consumidor, siendo este la **suma total del costo del vehículo, del porcentaje de ganancia del vendedor y de los impuestos locales o estatales aplicables** (sobre el precio de venta). Supóngase una *ganancia del vendedor del 12%* en todas las unidades y un *impuesto del 6%* y **capture** el costo del automóvil e imprima el costo final para el consumidor."
      ],
      "metadata": {
        "id": "w0Yez5jnoN4y"
      }
    },
    {
      "cell_type": "code",
      "execution_count": null,
      "metadata": {
        "colab": {
          "base_uri": "https://localhost:8080/"
        },
        "id": "nml2LAbRoLYF",
        "outputId": "b0fdc4fc-3193-490e-8782-efb467e35c6b"
      },
      "outputs": [
        {
          "output_type": "stream",
          "name": "stdout",
          "text": [
            "El Costo Final del Vehiculo es de: 11800.0\n"
          ]
        }
      ],
      "source": [
        "# Creando Clase\n",
        "class Vehiculo:\n",
        "  # Constructor - El metodo __init__ es llamado al crear el objeto\n",
        "  def __init__(self):\n",
        "    #atributos\n",
        "    self.costo = 0.0\n",
        "\n",
        "  # metodos y propiedades\n",
        "\n",
        "  @property\n",
        "  def Costo(self):\n",
        "    return self.costo\n",
        "\n",
        "  @Costo.setter\n",
        "  def Costo(self, c):\n",
        "    self.costo = c\n",
        "\n",
        "  def CalcularCostoFinal(self):\n",
        "    return self.costo + (self.costo*.12) + (self.costo*.06)\n",
        "\n",
        "# Ejecucion - A este punto ya esta la clase creada con todos sus componentes, es hora de ejecutarlo.\n",
        "miVehiculo = Vehiculo()\n",
        "\n",
        "miVehiculo.Costo = 10000.0\n",
        "\n",
        "print(\"El Costo Final del Vehiculo es de:\", miVehiculo.CalcularCostoFinal())"
      ]
    }
  ]
}