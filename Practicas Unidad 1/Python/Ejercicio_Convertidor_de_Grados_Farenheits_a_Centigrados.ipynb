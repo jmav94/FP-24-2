{
  "nbformat": 4,
  "nbformat_minor": 0,
  "metadata": {
    "colab": {
      "provenance": [],
      "authorship_tag": "ABX9TyP3QvLGqZNyyDISxInwvG1D",
      "include_colab_link": true
    },
    "kernelspec": {
      "name": "python3",
      "display_name": "Python 3"
    },
    "language_info": {
      "name": "python"
    }
  },
  "cells": [
    {
      "cell_type": "markdown",
      "metadata": {
        "id": "view-in-github",
        "colab_type": "text"
      },
      "source": [
        "<a href=\"https://colab.research.google.com/github/jmav94/FP-24-2/blob/main/Ejercicio_Convertidor_de_Grados_Farenheits_a_Centigrados.ipynb\" target=\"_parent\"><img src=\"https://colab.research.google.com/assets/colab-badge.svg\" alt=\"Open In Colab\"/></a>"
      ]
    },
    {
      "cell_type": "markdown",
      "source": [
        "# Ejercicio - Convertidor de Temperatura de Grados Farenheit a Grados Centigrados."
      ],
      "metadata": {
        "id": "SqJ3S6o0KqKp"
      }
    },
    {
      "cell_type": "markdown",
      "source": [
        "Diseñe una clase para convertir una temperatura de\n",
        "grados farenheit a grados centígrados.\n",
        "La clase debe tener un atributo que almacene la temperatura en grados\n",
        "farenheit, una propiedad de solo escritura para modificar\n",
        "su valor y un método que haga la conversión.\n",
        "\n",
        "Declare y cree un objeto al que le introduzca el valor de la temperatura en grados farenheit y calcule, devuelva e imprima la conversión.\n",
        "\n",
        "*Formula*\n",
        "C = 5 * (_dblGradosFarenheit - 32) / 9\n"
      ],
      "metadata": {
        "id": "wHO5cz9fLCEs"
      }
    },
    {
      "cell_type": "code",
      "source": [
        "# Creando Clase\n",
        "class TemperaturaGradosFarenheit:\n",
        "  # Constructor - El metodo __init__ es llamado al crear el objeto\n",
        "  def __init__(self):\n",
        "    #atributos\n",
        "    self._gradosFarenheit = 0\n",
        "\n",
        "  # metodos y propiedades\n",
        "  # Propiedad para consulta (getter)\n",
        "  @property\n",
        "  def gradosFarenheit(self):\n",
        "    return self._gradosFarenheit\n",
        "  #Propiedad para asignar o modificar el valor del atributo (setter)\n",
        "  @gradosFarenheit.setter\n",
        "  def gradosFarenheit(self, g):\n",
        "    self._gradosFarenheit = g\n",
        "  # metodo para convertir a grados centigrados\n",
        "  def ConvertirAGradosCentigrados(self):\n",
        "    return 5 * (self._gradosFarenheit - 32) / 9\n",
        "\n",
        "\n",
        "\n",
        "# Ejecucion - A este punto ya esta la clase creada con todos sus componentes, es hora de ejecutarlo.\n",
        "\n",
        "miTemperatura = TemperaturaGradosFarenheit()\n",
        "miTemperatura.gradosFarenheit = int(input(\"Ingrese la temperatura en Grados Farenheits: \"))\n",
        "print (\"La temperatura en °C es de: \" + str(miTemperatura.ConvertirAGradosCentigrados()))\n",
        "# otra forma de imprimir el resultado:\n",
        "print (\"La temperatura en °C es de: \", miTemperatura.ConvertirAGradosCentigrados())"
      ],
      "metadata": {
        "colab": {
          "base_uri": "https://localhost:8080/"
        },
        "id": "PY7uODBILcPh",
        "outputId": "18c3810f-307e-450a-8e29-6c8d4f68bf2a"
      },
      "execution_count": null,
      "outputs": [
        {
          "output_type": "stream",
          "name": "stdout",
          "text": [
            "Ingrese la temperatura en Grados Farenheits: 80\n",
            "La temperatura en °C es de: 26.666666666666668\n",
            "La temperatura en °C es de:  26.666666666666668\n"
          ]
        }
      ]
    }
  ]
}