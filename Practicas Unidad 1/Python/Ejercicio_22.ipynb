{
  "nbformat": 4,
  "nbformat_minor": 0,
  "metadata": {
    "colab": {
      "provenance": [],
      "authorship_tag": "ABX9TyMTeO/mvTxAM5tykOf7xOGA",
      "include_colab_link": true
    },
    "kernelspec": {
      "name": "python3",
      "display_name": "Python 3"
    },
    "language_info": {
      "name": "python"
    }
  },
  "cells": [
    {
      "cell_type": "markdown",
      "metadata": {
        "id": "view-in-github",
        "colab_type": "text"
      },
      "source": [
        "<a href=\"https://colab.research.google.com/github/jmav94/FP-24-2/blob/main/Ejercicio_22.ipynb\" target=\"_parent\"><img src=\"https://colab.research.google.com/assets/colab-badge.svg\" alt=\"Open In Colab\"/></a>"
      ]
    },
    {
      "cell_type": "markdown",
      "source": [
        "22. Diseñe una clase para controlar la venta de un artículo de un supermercado:\n",
        "\n",
        "*   Nombre del artículo\n",
        "*   Precio\n",
        "*   Cantidad vendida\n",
        "\n",
        "Considere que el objeto debe realizar las siguientes acciones:\n",
        "\n",
        "*   Calcular el 2 % de descuento en cada compra (antes de IVA)\n",
        "*   Calcular el subtotal (antes de IVA)\n",
        "*   Calcular el total de la compra\n",
        "\n",
        "Muestre los valores calculados en cada caso.\n"
      ],
      "metadata": {
        "id": "OkPuTtCM1aJb"
      }
    },
    {
      "cell_type": "code",
      "execution_count": 6,
      "metadata": {
        "id": "5Pg3Xw5M1ZHT",
        "colab": {
          "base_uri": "https://localhost:8080/"
        },
        "outputId": "0c686082-9d57-41b8-98e4-e9e6c8654898"
      },
      "outputs": [
        {
          "output_type": "stream",
          "name": "stdout",
          "text": [
            "Capture el nombre del articulo: Juguete\n",
            "El IVA de la compra es de: 160.0\n",
            "El Descuento de la compra es de: 20.0\n",
            "El Subtotal de la compra es de: 1000\n",
            "El Total de la compra es de: 1180.0\n"
          ]
        }
      ],
      "source": [
        "# Creando Clase\n",
        "class Articulo:\n",
        "  # Constructor - El metodo __init__ es llamado al crear el objeto\n",
        "  def __init__(self):\n",
        "    #atributos\n",
        "    self.nombre = \"\"\n",
        "    self.precio = 0.0\n",
        "    self.cantidadVendida = 0\n",
        "\n",
        "  # metodos y propiedades\n",
        "\n",
        "  @property\n",
        "  def Nombre(self):\n",
        "    return self.nombre\n",
        "\n",
        "  @Nombre.setter\n",
        "  def Nombre(self, n):\n",
        "    self.nombre = n\n",
        "\n",
        "\n",
        "  @property\n",
        "  def Precio(self):\n",
        "    return self.precio\n",
        "  @property\n",
        "  def CantidadVendida(self):\n",
        "    return self.cantidadVendida\n",
        "\n",
        "\n",
        "\n",
        "\n",
        "  @Precio.setter\n",
        "  def Precio(self, p):\n",
        "    self.precio = p\n",
        "\n",
        "  @CantidadVendida.setter\n",
        "  def CantidadVendida(self, c):\n",
        "    self.cantidadVendida = c\n",
        "\n",
        "  def CalcularSubtotal(self):\n",
        "    return self.precio * self.cantidadVendida\n",
        "\n",
        "  def CalcularIVA(self):\n",
        "    return self.CalcularSubtotal() * .16\n",
        "\n",
        "  def CalcularDescuento(self):\n",
        "    return self.CalcularSubtotal() * .02\n",
        "\n",
        "\n",
        "\n",
        "# Ejecucion - A este punto ya esta la clase creada con todos sus componentes, es hora de ejecutarlo.\n",
        "miArticulo = Articulo()\n",
        "#miArticulo.Nombre = \"Juguete\"\n",
        "miArticulo.Nombre = input(\"Capture el nombre del articulo: \")\n",
        "miArticulo.Precio = 100\n",
        "miArticulo.CantidadVendida = 10\n",
        "\n",
        "# otra forma de imprimir el resultado:\n",
        "print(\"El IVA de la compra es de:\", miArticulo.CalcularIVA())\n",
        "print(\"El Descuento de la compra es de:\", miArticulo.CalcularDescuento())\n",
        "print(\"El Subtotal de la compra es de:\", miArticulo.CalcularSubtotal())\n",
        "print(\"El Total de la compra es de:\", (miArticulo.CalcularIVA() + miArticulo.CalcularDescuento()+ miArticulo.CalcularSubtotal()))\n"
      ]
    }
  ]
}