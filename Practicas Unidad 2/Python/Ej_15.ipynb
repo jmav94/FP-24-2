{
  "nbformat": 4,
  "nbformat_minor": 0,
  "metadata": {
    "colab": {
      "provenance": [],
      "authorship_tag": "ABX9TyN/dyVvUaXK+TZeyI6YQS/6",
      "include_colab_link": true
    },
    "kernelspec": {
      "name": "python3",
      "display_name": "Python 3"
    },
    "language_info": {
      "name": "python"
    }
  },
  "cells": [
    {
      "cell_type": "markdown",
      "metadata": {
        "id": "view-in-github",
        "colab_type": "text"
      },
      "source": [
        "<a href=\"https://colab.research.google.com/github/jmav94/FP-24-2/blob/main/Ej_15.ipynb\" target=\"_parent\"><img src=\"https://colab.research.google.com/assets/colab-badge.svg\" alt=\"Open In Colab\"/></a>"
      ]
    },
    {
      "cell_type": "markdown",
      "source": [
        "15. Defina una clase y cree un objeto que tenga atributos (con sus respectivas propiedades) para leer 5 números del teclado, elimine el mayor y el menor y promedie los 3 restantes.\n",
        "Imprima el resultado desde el método principal Main()."
      ],
      "metadata": {
        "id": "wq3ZICLbMZ5Q"
      }
    },
    {
      "cell_type": "code",
      "execution_count": 9,
      "metadata": {
        "colab": {
          "base_uri": "https://localhost:8080/"
        },
        "id": "_BobTjgPMYCY",
        "outputId": "1e058667-3906-43b1-b9c0-c72d752debc5"
      },
      "outputs": [
        {
          "output_type": "stream",
          "name": "stdout",
          "text": [
            "Ingrese el primer numero: 1\n",
            "Ingrese el segundo numero: 2\n",
            "Ingrese el tercer numero: 3\n",
            "Ingrese el cuarto numero: 4\n",
            "Ingrese el quinto numero: 5\n",
            "El promedio de los 3 numeros restantes es:  4.666666666666667\n",
            "El promedio de los 3 numeros restantes es:  4.67\n",
            "El promedio de los 3 numeros restantes es:  4.67\n",
            "El promedio de los 3 numeros restantes es:  4.67\n",
            "El promedio de los 3 numeros restantes es:  4.67\n",
            "El promedio de los 3 numeros restantes es:  4.67\n"
          ]
        }
      ],
      "source": [
        "#Creacion de Clase\n",
        "class Promedio:\n",
        "   # Constructor - El metodo __init__ es llamado al crear el objeto\n",
        "  def __init__(self):\n",
        "    self._a = 0\n",
        "    self._b = 0\n",
        "    self._c = 0\n",
        "    self._d = 0\n",
        "    self._e = 0\n",
        "    self.mayor = self._a\n",
        "    self.menor = self._a\n",
        "\n",
        "  #metodos y propiedades\n",
        "  @property\n",
        "  def a(self):\n",
        "    return self._a\n",
        "  @a.setter\n",
        "  def a(self, a):\n",
        "    self._a = a\n",
        "  @property\n",
        "  def b(self):\n",
        "    return self._b\n",
        "  @b.setter\n",
        "  def b(self, b):\n",
        "    self._b = b\n",
        "  @property\n",
        "  def c(self):\n",
        "    return self._c\n",
        "  @c.setter\n",
        "  def c(self, c):\n",
        "    self._c = c\n",
        "  @property\n",
        "  def d(self):\n",
        "    return self._d\n",
        "  @d.setter\n",
        "  def d(self, d):\n",
        "    self._d = d\n",
        "  @property\n",
        "  def e(self):\n",
        "    return self._e\n",
        "  @e.setter\n",
        "  def e(self, e):\n",
        "    self._e = e\n",
        "\n",
        "  def Calcular(self):\n",
        "    if self._b > self.mayor:\n",
        "      self.mayor = self._b\n",
        "    if self._c > self.mayor:\n",
        "      self.mayor = self._c\n",
        "    if self._d > self.mayor:\n",
        "      self.mayor = self._d\n",
        "    if self._e > self.mayor:\n",
        "      self.mayor = self._e\n",
        "\n",
        "    if self._b < self.menor:\n",
        "      self.menor = self._b\n",
        "    if self._c < self.menor:\n",
        "      self.menor = self._c\n",
        "    if self._d < self.menor:\n",
        "      self.menor = self._d\n",
        "    if self._e < self.menor:\n",
        "      self.menor = self._e\n",
        "\n",
        "    promedio = (self._b + self._c + self._d + self._e) / 3\n",
        "    return promedio\n",
        "\n",
        "miPromedio = Promedio()\n",
        "miPromedio.a = int(input(\"Ingrese el primer numero: \"))\n",
        "miPromedio.b = int(input(\"Ingrese el segundo numero: \"))\n",
        "miPromedio.c = int(input(\"Ingrese el tercer numero: \"))\n",
        "miPromedio.d = int(input(\"Ingrese el cuarto numero: \"))\n",
        "miPromedio.e = int(input(\"Ingrese el quinto numero: \"))\n",
        "\n",
        "#Imprimiendo promedio sin limitar decimales\n",
        "print(\"El promedio de los 3 numeros restantes es: \", miPromedio.Calcular())\n",
        "\n",
        "#Diferentes formas para mostrar solo 2 decimales del float\n",
        "# 1 - Usando la funcion round()\n",
        "promedio = round(miPromedio.Calcular(), 2)\n",
        "print(\"El promedio de los 3 numeros restantes es: \", promedio)\n",
        "\n",
        "# 2 - Usando String Formatting\n",
        "promedio = \"{:.2f}\".format(miPromedio.Calcular())\n",
        "print(\"El promedio de los 3 numeros restantes es: \", promedio)\n",
        "\n",
        "# 3 - Usando f-strings\n",
        "promedio = f\"{miPromedio.Calcular():.2f}\"\n",
        "print(\"El promedio de los 3 numeros restantes es: \", promedio)\n",
        "\n",
        "# 4 - Usando el operador %\n",
        "promedio = \"%.2f\" % miPromedio.Calcular()\n",
        "print(\"El promedio de los 3 numeros restantes es: \", promedio)\n",
        "\n",
        "# 5 - Usando la funcion format()\n",
        "promedio = format(miPromedio.Calcular(), \".2f\")\n",
        "print(\"El promedio de los 3 numeros restantes es: \", promedio)\n",
        "\n",
        "\n",
        "\n",
        "\n",
        ""
      ]
    }
  ]
}