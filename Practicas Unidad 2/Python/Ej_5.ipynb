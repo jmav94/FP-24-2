{
  "nbformat": 4,
  "nbformat_minor": 0,
  "metadata": {
    "colab": {
      "provenance": [],
      "authorship_tag": "ABX9TyOqQn3e7O8Ur0zKSYigDtb2",
      "include_colab_link": true
    },
    "kernelspec": {
      "name": "python3",
      "display_name": "Python 3"
    },
    "language_info": {
      "name": "python"
    }
  },
  "cells": [
    {
      "cell_type": "markdown",
      "metadata": {
        "id": "view-in-github",
        "colab_type": "text"
      },
      "source": [
        "<a href=\"https://colab.research.google.com/github/jmav94/FP-24-2/blob/main/Ej_5.ipynb\" target=\"_parent\"><img src=\"https://colab.research.google.com/assets/colab-badge.svg\" alt=\"Open In Colab\"/></a>"
      ]
    },
    {
      "cell_type": "markdown",
      "source": [
        "5. Una agencia de autos necesita un sistema orientado a objetos que tenga una clase con los atributos, métodos y propiedades necesarios para calcular el pago mensual para un agente de ventas de autos, basándose en lo siguiente:\n",
        "*   El pago base es de $350, más una comisión de $15 por cada auto vendido y un bono de $40 si vendió más de 15 autos.\n",
        "*   El impuesto a pagar es el 5 % del pago total.\n",
        "*   Los datos de entrada son el nombre del vendedor y el número de autos vendidos en el mes.\n",
        "*   Se desea imprimir el nombre del vendedor, el sueldo bruto, el impuesto y el sueldo neto.\n",
        "\n",
        "NOTA: No imprima el resultado dentro del método que calcula, sino desde el método\n",
        "principal Main().\n"
      ],
      "metadata": {
        "id": "V1GEdkQLutv3"
      }
    },
    {
      "cell_type": "code",
      "execution_count": 44,
      "metadata": {
        "colab": {
          "base_uri": "https://localhost:8080/"
        },
        "id": "J7xJ7KGLusD6",
        "outputId": "2957ee75-f333-4d71-99df-1518d4519cce"
      },
      "outputs": [
        {
          "output_type": "stream",
          "name": "stdout",
          "text": [
            "\n",
            "Alberto\n",
            "Sueldo Bruto: 575\n",
            "Impuesto: 28.75\n",
            "Sueldo Neto: 546.25\n",
            "    \n",
            "\n",
            "Daniel\n",
            "Sueldo Bruto: 690\n",
            "Impuesto: 34.5\n",
            "Sueldo Neto: 655.5\n",
            "    \n",
            "Nombre: Rafael\n",
            "Autos Vendidos: 10\n",
            "\n",
            "Rafael\n",
            "Sueldo Bruto: 500\n",
            "Impuesto: 25.0\n",
            "Sueldo Neto: 475.0\n",
            "    \n"
          ]
        }
      ],
      "source": [
        "#Creacion de Clase\n",
        "class PagoMensual:\n",
        "  # Constructor - El metodo __init__ es llamado al crear el objeto\n",
        "  def __init__(self):\n",
        "    #atributos\n",
        "    self._nombre = \"\"\n",
        "    self._autosVendidos = 0\n",
        "\n",
        "  # metodos y propiedades\n",
        "  @property\n",
        "  def Nombre(self):\n",
        "    return self._nombre\n",
        "\n",
        "  @Nombre.setter\n",
        "  def Nombre(self, n):\n",
        "    self._nombre = n\n",
        "\n",
        "\n",
        "  @property\n",
        "  def AutosVendidos(self):\n",
        "    return self._autosVendidos\n",
        "\n",
        "  @AutosVendidos.setter\n",
        "  def AutosVendidos(self, a):\n",
        "    self._autosVendidos = a\n",
        "\n",
        "  def CalcularSBruto(self):\n",
        "    SBruto = 350+40+(self.AutosVendidos*15) if self.AutosVendidos > 15 else 350+(self.AutosVendidos*15)\n",
        "    \"\"\"\n",
        "    if self.AutosVendidos > 15:\n",
        "      SBruto = 350+40+(self.AutosVendidos*15)\n",
        "      return SBruto\n",
        "    else:\n",
        "      SBruto = 350+(self.AutosVendidos*15)\n",
        "    \"\"\"\n",
        "    return SBruto\n",
        "\n",
        "  def CalcularImpuesto(self):\n",
        "    return self.CalcularSBruto()*.05\n",
        "\n",
        "\n",
        "# Ejecucion - A este punto ya esta la clase creada con todos sus componentes, es hora de ejecutarlo.\n",
        "miPagoMensual = PagoMensual()\n",
        "miPagoMensual.Nombre = \"Alberto\"\n",
        "miPagoMensual.AutosVendidos = 15\n",
        "\n",
        "sueldoNeto = miPagoMensual.CalcularSBruto() - miPagoMensual.CalcularImpuesto()\n",
        "\n",
        "res =f\"\"\"\n",
        "{miPagoMensual.Nombre}\n",
        "Sueldo Bruto: {miPagoMensual.CalcularSBruto()}\n",
        "Impuesto: {miPagoMensual.CalcularImpuesto()}\n",
        "Sueldo Neto: {sueldoNeto}\n",
        "    \"\"\"\n",
        "print(res)\n",
        "\n",
        "miPagoMensual.Nombre = \"Daniel\"\n",
        "miPagoMensual.AutosVendidos = 20\n",
        "\n",
        "sueldoNeto = miPagoMensual.CalcularSBruto() - miPagoMensual.CalcularImpuesto()\n",
        "\n",
        "res =f\"\"\"\n",
        "{miPagoMensual.Nombre}\n",
        "Sueldo Bruto: {miPagoMensual.CalcularSBruto()}\n",
        "Impuesto: {miPagoMensual.CalcularImpuesto()}\n",
        "Sueldo Neto: {sueldoNeto}\n",
        "    \"\"\"\n",
        "print(res)\n",
        "\n",
        "miPagoMensual.Nombre = input(\"Nombre: \")\n",
        "miPagoMensual.AutosVendidos = int(input(\"Autos Vendidos: \"))\n",
        "\n",
        "sueldoNeto = miPagoMensual.CalcularSBruto() - miPagoMensual.CalcularImpuesto()\n",
        "\n",
        "res =f\"\"\"\n",
        "{miPagoMensual.Nombre}\n",
        "Sueldo Bruto: {miPagoMensual.CalcularSBruto()}\n",
        "Impuesto: {miPagoMensual.CalcularImpuesto()}\n",
        "Sueldo Neto: {sueldoNeto}\n",
        "    \"\"\"\n",
        "print(res)"
      ]
    }
  ]
}