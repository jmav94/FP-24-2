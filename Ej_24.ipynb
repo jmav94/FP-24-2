{
  "nbformat": 4,
  "nbformat_minor": 0,
  "metadata": {
    "colab": {
      "provenance": [],
      "authorship_tag": "ABX9TyOr+ctp4e18zYhulrdTyO34",
      "include_colab_link": true
    },
    "kernelspec": {
      "name": "python3",
      "display_name": "Python 3"
    },
    "language_info": {
      "name": "python"
    }
  },
  "cells": [
    {
      "cell_type": "markdown",
      "metadata": {
        "id": "view-in-github",
        "colab_type": "text"
      },
      "source": [
        "<a href=\"https://colab.research.google.com/github/jmav94/FP-24-2/blob/main/Ej_24.ipynb\" target=\"_parent\"><img src=\"https://colab.research.google.com/assets/colab-badge.svg\" alt=\"Open In Colab\"/></a>"
      ]
    },
    {
      "cell_type": "markdown",
      "source": [
        "24. Capturar las calificaciones obtenidas por un estudiante en tres exámenes parciales e imprimir su promedio final seguido del mensaje correspondiente de acuerdo a la siguiente tabla:\n",
        "\n",
        "![Captura de pantalla 2024-10-05 195322.png](data:image/png;base64,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)"
      ],
      "metadata": {
        "id": "rCA9yrxOTrkd"
      }
    },
    {
      "cell_type": "code",
      "execution_count": 4,
      "metadata": {
        "colab": {
          "base_uri": "https://localhost:8080/"
        },
        "id": "o8A5kp8rTp2c",
        "outputId": "c2a42b86-22b2-4791-f331-32ce597b2802"
      },
      "outputs": [
        {
          "output_type": "stream",
          "name": "stdout",
          "text": [
            "Tu promedio es de: 71.33 y tu nota es: Hay que mejorar\n",
            "Tu promedio es de: 80.0 y tu nota es: Bien\n",
            "Tu promedio es de: 100.0 y tu nota es: Excelente\n"
          ]
        }
      ],
      "source": [
        "# Creando Clase\n",
        "class Promedio:\n",
        "  #Constructor con parametros\n",
        "  def __init__(self, c1, c2, c3):\n",
        "    self.c1 = c1\n",
        "    self.c2 = c2\n",
        "    self.c3 = c3\n",
        "  #Metodos\n",
        "  def promedio(self):\n",
        "    return (self.c1 + self.c2 + self.c3) / 3\n",
        "\n",
        "  def mensaje(self):\n",
        "    if self.promedio() == 100.00:\n",
        "      return \"Excelente\"\n",
        "    elif self.promedio() >= 90.00:\n",
        "      return \"Muy bien\"\n",
        "    elif self.promedio() >= 80.00:\n",
        "      return \"Bien\"\n",
        "    elif self.promedio() >= 70.00:\n",
        "      return \"Hay que mejorar\"\n",
        "    else:\n",
        "      return \"Reprobado\"\n",
        "\n",
        "#Creacion de objeto enviando parametros para los atributos\n",
        "Promedio1  = Promedio(70, 75, 69)\n",
        "#Impresion de promedio limitando decimales\n",
        "print(\"Tu promedio es de:\",round(Promedio1.promedio(),2), \"y tu nota es:\",Promedio1.mensaje())\n",
        "\n",
        "Promedio2  = Promedio(90, 80, 70)\n",
        "print(\"Tu promedio es de:\",Promedio2.promedio(), \"y tu nota es:\",Promedio2.mensaje())\n",
        "\n",
        "Promedio3  = Promedio(100, 100, 100)\n",
        "print(\"Tu promedio es de:\",Promedio3.promedio(), \"y tu nota es:\",Promedio3.mensaje())\n"
      ]
    }
  ]
}